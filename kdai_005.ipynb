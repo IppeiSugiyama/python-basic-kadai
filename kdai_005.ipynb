{
  "nbformat": 4,
  "nbformat_minor": 0,
  "metadata": {
    "colab": {
      "provenance": []
    },
    "kernelspec": {
      "name": "python3",
      "display_name": "Python 3"
    },
    "language_info": {
      "name": "python"
    }
  },
  "cells": [
    {
      "cell_type": "code",
      "execution_count": 9,
      "metadata": {
        "colab": {
          "base_uri": "https://localhost:8080/"
        },
        "id": "82ENK1hoUsra",
        "outputId": "e588ffdf-ffe2-4d6a-c0b9-3bbea27f17d4"
      },
      "outputs": [
        {
          "output_type": "stream",
          "name": "stdout",
          "text": [
            "75.0cm²\n"
          ]
        }
      ],
      "source": [
        "top_side     = 10\n",
        "bottom_side  = 20\n",
        "height       = 5\n",
        "\n",
        "result_of_calculation = ((top_side + bottom_side) * height) /2\n",
        "print(f\"{result_of_calculation}cm²\")"
      ]
    },
    {
      "cell_type": "code",
      "source": [],
      "metadata": {
        "id": "T47LNDdZXQfP"
      },
      "execution_count": null,
      "outputs": []
    }
  ]
}