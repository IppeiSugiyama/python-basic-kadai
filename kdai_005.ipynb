{
  "nbformat": 4,
  "nbformat_minor": 0,
  "metadata": {
    "colab": {
      "provenance": []
    },
    "kernelspec": {
      "name": "python3",
      "display_name": "Python 3"
    },
    "language_info": {
      "name": "python"
    }
  },
  "cells": [
    {
      "cell_type": "code",
      "execution_count": 8,
      "metadata": {
        "colab": {
          "base_uri": "https://localhost:8080/"
        },
        "id": "82ENK1hoUsra",
        "outputId": "c7acb435-a2c2-4dcc-faa8-841c577e96e7"
      },
      "outputs": [
        {
          "output_type": "stream",
          "name": "stdout",
          "text": [
            "75.0㎠\n"
          ]
        }
      ],
      "source": [
        "top_side     = 10\n",
        "bottom_side  = 20\n",
        "height       = 5\n",
        "\n",
        "result_of_calculation = ((top_side + bottom_side) * height) /2\n",
        "print(f\"{result_of_calculation}㎠\")"
      ]
    },
    {
      "cell_type": "code",
      "source": [],
      "metadata": {
        "id": "T47LNDdZXQfP"
      },
      "execution_count": null,
      "outputs": []
    }
  ]
}